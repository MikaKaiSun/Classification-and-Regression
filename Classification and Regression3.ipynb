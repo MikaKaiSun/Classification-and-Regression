{
  "nbformat": 4,
  "nbformat_minor": 0,
  "metadata": {
    "colab": {
      "name": "HW2_P2_T3.ipynb",
      "version": "0.3.2",
      "provenance": [],
      "collapsed_sections": [],
      "toc_visible": true
    },
    "kernelspec": {
      "display_name": "Python 3",
      "language": "python",
      "name": "python3"
    }
  },
  "cells": [
    {
      "metadata": {
        "id": "xeIpa-kfg662",
        "colab_type": "text"
      },
      "cell_type": "markdown",
      "source": [
        "# Homework 2, Part 2, Task 3 - Predict House Price Ranges - Classification"
      ]
    },
    {
      "metadata": {
        "id": "fJi-4w7Yg664",
        "colab_type": "code",
        "colab": {}
      },
      "cell_type": "code",
      "source": [
        "%matplotlib inline\n",
        "import numpy as np\n",
        "import pandas as pd\n",
        "import matplotlib.pyplot as plt\n",
        "import seaborn as sns\n",
        "from sklearn.model_selection import train_test_split\n",
        "from sklearn.metrics import mean_squared_error\n",
        "from sklearn.model_selection import cross_val_score"
      ],
      "execution_count": 0,
      "outputs": []
    },
    {
      "metadata": {
        "id": "42E6rJAPg668",
        "colab_type": "text"
      },
      "cell_type": "markdown",
      "source": [
        "## Load the training and testing datasets\n",
        "https://www.kaggle.com/c/house-prices-advanced-regression-techniques"
      ]
    },
    {
      "metadata": {
        "id": "HMCHhDoag669",
        "colab_type": "code",
        "colab": {
          "base_uri": "https://localhost:8080/",
          "height": 67
        },
        "outputId": "26aecb9e-78eb-41d3-c388-c68e4c2bca07"
      },
      "cell_type": "code",
      "source": [
        "data_train = pd.read_csv(\"train.csv\")\n",
        "data_test = pd.read_csv(\"test.csv\")\n",
        "data_test_y = pd.read_csv(\"test_y.csv\")\n",
        "data_test['SalePrice']=data_test_y['SalePrice']\n",
        "data_train['train']=1\n",
        "data_test['train']=0\n",
        "data = pd.concat([data_train, data_test], axis=0)\n",
        "print('data_train.shape', data_train.shape)\n",
        "print('data_test.shape', data_test.shape)\n",
        "print('data.shape', data.shape)"
      ],
      "execution_count": 4,
      "outputs": [
        {
          "output_type": "stream",
          "text": [
            "data_train.shape (1460, 82)\n",
            "data_test.shape (1459, 82)\n",
            "data.shape (2919, 82)\n"
          ],
          "name": "stdout"
        }
      ]
    },
    {
      "metadata": {
        "scrolled": true,
        "id": "xHcY9oizg67D",
        "colab_type": "code",
        "colab": {
          "base_uri": "https://localhost:8080/",
          "height": 244
        },
        "outputId": "aa612f70-dae7-4b6e-d5fc-a1cbc7245aa6"
      },
      "cell_type": "code",
      "source": [
        "data.head()"
      ],
      "execution_count": 5,
      "outputs": [
        {
          "output_type": "execute_result",
          "data": {
            "text/html": [
              "<div>\n",
              "<style scoped>\n",
              "    .dataframe tbody tr th:only-of-type {\n",
              "        vertical-align: middle;\n",
              "    }\n",
              "\n",
              "    .dataframe tbody tr th {\n",
              "        vertical-align: top;\n",
              "    }\n",
              "\n",
              "    .dataframe thead th {\n",
              "        text-align: right;\n",
              "    }\n",
              "</style>\n",
              "<table border=\"1\" class=\"dataframe\">\n",
              "  <thead>\n",
              "    <tr style=\"text-align: right;\">\n",
              "      <th></th>\n",
              "      <th>Id</th>\n",
              "      <th>MSSubClass</th>\n",
              "      <th>MSZoning</th>\n",
              "      <th>LotFrontage</th>\n",
              "      <th>LotArea</th>\n",
              "      <th>Street</th>\n",
              "      <th>Alley</th>\n",
              "      <th>LotShape</th>\n",
              "      <th>LandContour</th>\n",
              "      <th>Utilities</th>\n",
              "      <th>...</th>\n",
              "      <th>PoolQC</th>\n",
              "      <th>Fence</th>\n",
              "      <th>MiscFeature</th>\n",
              "      <th>MiscVal</th>\n",
              "      <th>MoSold</th>\n",
              "      <th>YrSold</th>\n",
              "      <th>SaleType</th>\n",
              "      <th>SaleCondition</th>\n",
              "      <th>SalePrice</th>\n",
              "      <th>train</th>\n",
              "    </tr>\n",
              "  </thead>\n",
              "  <tbody>\n",
              "    <tr>\n",
              "      <th>0</th>\n",
              "      <td>1</td>\n",
              "      <td>60</td>\n",
              "      <td>RL</td>\n",
              "      <td>65.0</td>\n",
              "      <td>8450</td>\n",
              "      <td>Pave</td>\n",
              "      <td>NaN</td>\n",
              "      <td>Reg</td>\n",
              "      <td>Lvl</td>\n",
              "      <td>AllPub</td>\n",
              "      <td>...</td>\n",
              "      <td>NaN</td>\n",
              "      <td>NaN</td>\n",
              "      <td>NaN</td>\n",
              "      <td>0</td>\n",
              "      <td>2</td>\n",
              "      <td>2008</td>\n",
              "      <td>WD</td>\n",
              "      <td>Normal</td>\n",
              "      <td>208500.0</td>\n",
              "      <td>1</td>\n",
              "    </tr>\n",
              "    <tr>\n",
              "      <th>1</th>\n",
              "      <td>2</td>\n",
              "      <td>20</td>\n",
              "      <td>RL</td>\n",
              "      <td>80.0</td>\n",
              "      <td>9600</td>\n",
              "      <td>Pave</td>\n",
              "      <td>NaN</td>\n",
              "      <td>Reg</td>\n",
              "      <td>Lvl</td>\n",
              "      <td>AllPub</td>\n",
              "      <td>...</td>\n",
              "      <td>NaN</td>\n",
              "      <td>NaN</td>\n",
              "      <td>NaN</td>\n",
              "      <td>0</td>\n",
              "      <td>5</td>\n",
              "      <td>2007</td>\n",
              "      <td>WD</td>\n",
              "      <td>Normal</td>\n",
              "      <td>181500.0</td>\n",
              "      <td>1</td>\n",
              "    </tr>\n",
              "    <tr>\n",
              "      <th>2</th>\n",
              "      <td>3</td>\n",
              "      <td>60</td>\n",
              "      <td>RL</td>\n",
              "      <td>68.0</td>\n",
              "      <td>11250</td>\n",
              "      <td>Pave</td>\n",
              "      <td>NaN</td>\n",
              "      <td>IR1</td>\n",
              "      <td>Lvl</td>\n",
              "      <td>AllPub</td>\n",
              "      <td>...</td>\n",
              "      <td>NaN</td>\n",
              "      <td>NaN</td>\n",
              "      <td>NaN</td>\n",
              "      <td>0</td>\n",
              "      <td>9</td>\n",
              "      <td>2008</td>\n",
              "      <td>WD</td>\n",
              "      <td>Normal</td>\n",
              "      <td>223500.0</td>\n",
              "      <td>1</td>\n",
              "    </tr>\n",
              "    <tr>\n",
              "      <th>3</th>\n",
              "      <td>4</td>\n",
              "      <td>70</td>\n",
              "      <td>RL</td>\n",
              "      <td>60.0</td>\n",
              "      <td>9550</td>\n",
              "      <td>Pave</td>\n",
              "      <td>NaN</td>\n",
              "      <td>IR1</td>\n",
              "      <td>Lvl</td>\n",
              "      <td>AllPub</td>\n",
              "      <td>...</td>\n",
              "      <td>NaN</td>\n",
              "      <td>NaN</td>\n",
              "      <td>NaN</td>\n",
              "      <td>0</td>\n",
              "      <td>2</td>\n",
              "      <td>2006</td>\n",
              "      <td>WD</td>\n",
              "      <td>Abnorml</td>\n",
              "      <td>140000.0</td>\n",
              "      <td>1</td>\n",
              "    </tr>\n",
              "    <tr>\n",
              "      <th>4</th>\n",
              "      <td>5</td>\n",
              "      <td>60</td>\n",
              "      <td>RL</td>\n",
              "      <td>84.0</td>\n",
              "      <td>14260</td>\n",
              "      <td>Pave</td>\n",
              "      <td>NaN</td>\n",
              "      <td>IR1</td>\n",
              "      <td>Lvl</td>\n",
              "      <td>AllPub</td>\n",
              "      <td>...</td>\n",
              "      <td>NaN</td>\n",
              "      <td>NaN</td>\n",
              "      <td>NaN</td>\n",
              "      <td>0</td>\n",
              "      <td>12</td>\n",
              "      <td>2008</td>\n",
              "      <td>WD</td>\n",
              "      <td>Normal</td>\n",
              "      <td>250000.0</td>\n",
              "      <td>1</td>\n",
              "    </tr>\n",
              "  </tbody>\n",
              "</table>\n",
              "<p>5 rows × 82 columns</p>\n",
              "</div>"
            ],
            "text/plain": [
              "   Id  MSSubClass MSZoning  LotFrontage  LotArea Street Alley LotShape  \\\n",
              "0   1          60       RL         65.0     8450   Pave   NaN      Reg   \n",
              "1   2          20       RL         80.0     9600   Pave   NaN      Reg   \n",
              "2   3          60       RL         68.0    11250   Pave   NaN      IR1   \n",
              "3   4          70       RL         60.0     9550   Pave   NaN      IR1   \n",
              "4   5          60       RL         84.0    14260   Pave   NaN      IR1   \n",
              "\n",
              "  LandContour Utilities  ...   PoolQC Fence MiscFeature MiscVal MoSold YrSold  \\\n",
              "0         Lvl    AllPub  ...      NaN   NaN         NaN       0      2   2008   \n",
              "1         Lvl    AllPub  ...      NaN   NaN         NaN       0      5   2007   \n",
              "2         Lvl    AllPub  ...      NaN   NaN         NaN       0      9   2008   \n",
              "3         Lvl    AllPub  ...      NaN   NaN         NaN       0      2   2006   \n",
              "4         Lvl    AllPub  ...      NaN   NaN         NaN       0     12   2008   \n",
              "\n",
              "  SaleType  SaleCondition  SalePrice  train  \n",
              "0       WD         Normal   208500.0      1  \n",
              "1       WD         Normal   181500.0      1  \n",
              "2       WD         Normal   223500.0      1  \n",
              "3       WD        Abnorml   140000.0      1  \n",
              "4       WD         Normal   250000.0      1  \n",
              "\n",
              "[5 rows x 82 columns]"
            ]
          },
          "metadata": {
            "tags": []
          },
          "execution_count": 5
        }
      ]
    },
    {
      "metadata": {
        "id": "6RtqULLqg67H",
        "colab_type": "text"
      },
      "cell_type": "markdown",
      "source": [
        "the regression target is SalePrice"
      ]
    },
    {
      "metadata": {
        "id": "ohf9z7deg67I",
        "colab_type": "code",
        "colab": {
          "base_uri": "https://localhost:8080/",
          "height": 118
        },
        "outputId": "5108f559-27e5-44dd-e8e4-3493444c9ce7"
      },
      "cell_type": "code",
      "source": [
        "data.head().SalePrice"
      ],
      "execution_count": 6,
      "outputs": [
        {
          "output_type": "execute_result",
          "data": {
            "text/plain": [
              "0    208500.0\n",
              "1    181500.0\n",
              "2    223500.0\n",
              "3    140000.0\n",
              "4    250000.0\n",
              "Name: SalePrice, dtype: float64"
            ]
          },
          "metadata": {
            "tags": []
          },
          "execution_count": 6
        }
      ]
    },
    {
      "metadata": {
        "id": "FhYaBrfpg67M",
        "colab_type": "text"
      },
      "cell_type": "markdown",
      "source": [
        "## Handle missing values (NaN and None)\n",
        "show the missing values for each feature"
      ]
    },
    {
      "metadata": {
        "id": "35m30hhsg67N",
        "colab_type": "code",
        "colab": {
          "base_uri": "https://localhost:8080/",
          "height": 1054
        },
        "outputId": "af0a5ce3-a7b7-4892-de26-7932ed2e92a6"
      },
      "cell_type": "code",
      "source": [
        "#show the missing values in a table\n",
        "Missing = pd.concat([data_train.isnull().sum(), data_test.isnull().sum()], axis=1, keys=['Train', 'Test'])\n",
        "Missing[Missing.sum(axis=1) > 0]"
      ],
      "execution_count": 7,
      "outputs": [
        {
          "output_type": "execute_result",
          "data": {
            "text/html": [
              "<div>\n",
              "<style scoped>\n",
              "    .dataframe tbody tr th:only-of-type {\n",
              "        vertical-align: middle;\n",
              "    }\n",
              "\n",
              "    .dataframe tbody tr th {\n",
              "        vertical-align: top;\n",
              "    }\n",
              "\n",
              "    .dataframe thead th {\n",
              "        text-align: right;\n",
              "    }\n",
              "</style>\n",
              "<table border=\"1\" class=\"dataframe\">\n",
              "  <thead>\n",
              "    <tr style=\"text-align: right;\">\n",
              "      <th></th>\n",
              "      <th>Train</th>\n",
              "      <th>Test</th>\n",
              "    </tr>\n",
              "  </thead>\n",
              "  <tbody>\n",
              "    <tr>\n",
              "      <th>MSZoning</th>\n",
              "      <td>0</td>\n",
              "      <td>4</td>\n",
              "    </tr>\n",
              "    <tr>\n",
              "      <th>LotFrontage</th>\n",
              "      <td>259</td>\n",
              "      <td>227</td>\n",
              "    </tr>\n",
              "    <tr>\n",
              "      <th>Alley</th>\n",
              "      <td>1369</td>\n",
              "      <td>1352</td>\n",
              "    </tr>\n",
              "    <tr>\n",
              "      <th>Utilities</th>\n",
              "      <td>0</td>\n",
              "      <td>2</td>\n",
              "    </tr>\n",
              "    <tr>\n",
              "      <th>Exterior1st</th>\n",
              "      <td>0</td>\n",
              "      <td>1</td>\n",
              "    </tr>\n",
              "    <tr>\n",
              "      <th>Exterior2nd</th>\n",
              "      <td>0</td>\n",
              "      <td>1</td>\n",
              "    </tr>\n",
              "    <tr>\n",
              "      <th>MasVnrType</th>\n",
              "      <td>8</td>\n",
              "      <td>16</td>\n",
              "    </tr>\n",
              "    <tr>\n",
              "      <th>MasVnrArea</th>\n",
              "      <td>8</td>\n",
              "      <td>15</td>\n",
              "    </tr>\n",
              "    <tr>\n",
              "      <th>BsmtQual</th>\n",
              "      <td>37</td>\n",
              "      <td>44</td>\n",
              "    </tr>\n",
              "    <tr>\n",
              "      <th>BsmtCond</th>\n",
              "      <td>37</td>\n",
              "      <td>45</td>\n",
              "    </tr>\n",
              "    <tr>\n",
              "      <th>BsmtExposure</th>\n",
              "      <td>38</td>\n",
              "      <td>44</td>\n",
              "    </tr>\n",
              "    <tr>\n",
              "      <th>BsmtFinType1</th>\n",
              "      <td>37</td>\n",
              "      <td>42</td>\n",
              "    </tr>\n",
              "    <tr>\n",
              "      <th>BsmtFinSF1</th>\n",
              "      <td>0</td>\n",
              "      <td>1</td>\n",
              "    </tr>\n",
              "    <tr>\n",
              "      <th>BsmtFinType2</th>\n",
              "      <td>38</td>\n",
              "      <td>42</td>\n",
              "    </tr>\n",
              "    <tr>\n",
              "      <th>BsmtFinSF2</th>\n",
              "      <td>0</td>\n",
              "      <td>1</td>\n",
              "    </tr>\n",
              "    <tr>\n",
              "      <th>BsmtUnfSF</th>\n",
              "      <td>0</td>\n",
              "      <td>1</td>\n",
              "    </tr>\n",
              "    <tr>\n",
              "      <th>TotalBsmtSF</th>\n",
              "      <td>0</td>\n",
              "      <td>1</td>\n",
              "    </tr>\n",
              "    <tr>\n",
              "      <th>Electrical</th>\n",
              "      <td>1</td>\n",
              "      <td>0</td>\n",
              "    </tr>\n",
              "    <tr>\n",
              "      <th>BsmtFullBath</th>\n",
              "      <td>0</td>\n",
              "      <td>2</td>\n",
              "    </tr>\n",
              "    <tr>\n",
              "      <th>BsmtHalfBath</th>\n",
              "      <td>0</td>\n",
              "      <td>2</td>\n",
              "    </tr>\n",
              "    <tr>\n",
              "      <th>KitchenQual</th>\n",
              "      <td>0</td>\n",
              "      <td>1</td>\n",
              "    </tr>\n",
              "    <tr>\n",
              "      <th>Functional</th>\n",
              "      <td>0</td>\n",
              "      <td>2</td>\n",
              "    </tr>\n",
              "    <tr>\n",
              "      <th>FireplaceQu</th>\n",
              "      <td>690</td>\n",
              "      <td>730</td>\n",
              "    </tr>\n",
              "    <tr>\n",
              "      <th>GarageType</th>\n",
              "      <td>81</td>\n",
              "      <td>76</td>\n",
              "    </tr>\n",
              "    <tr>\n",
              "      <th>GarageYrBlt</th>\n",
              "      <td>81</td>\n",
              "      <td>78</td>\n",
              "    </tr>\n",
              "    <tr>\n",
              "      <th>GarageFinish</th>\n",
              "      <td>81</td>\n",
              "      <td>78</td>\n",
              "    </tr>\n",
              "    <tr>\n",
              "      <th>GarageCars</th>\n",
              "      <td>0</td>\n",
              "      <td>1</td>\n",
              "    </tr>\n",
              "    <tr>\n",
              "      <th>GarageArea</th>\n",
              "      <td>0</td>\n",
              "      <td>1</td>\n",
              "    </tr>\n",
              "    <tr>\n",
              "      <th>GarageQual</th>\n",
              "      <td>81</td>\n",
              "      <td>78</td>\n",
              "    </tr>\n",
              "    <tr>\n",
              "      <th>GarageCond</th>\n",
              "      <td>81</td>\n",
              "      <td>78</td>\n",
              "    </tr>\n",
              "    <tr>\n",
              "      <th>PoolQC</th>\n",
              "      <td>1453</td>\n",
              "      <td>1456</td>\n",
              "    </tr>\n",
              "    <tr>\n",
              "      <th>Fence</th>\n",
              "      <td>1179</td>\n",
              "      <td>1169</td>\n",
              "    </tr>\n",
              "    <tr>\n",
              "      <th>MiscFeature</th>\n",
              "      <td>1406</td>\n",
              "      <td>1408</td>\n",
              "    </tr>\n",
              "    <tr>\n",
              "      <th>SaleType</th>\n",
              "      <td>0</td>\n",
              "      <td>1</td>\n",
              "    </tr>\n",
              "  </tbody>\n",
              "</table>\n",
              "</div>"
            ],
            "text/plain": [
              "              Train  Test\n",
              "MSZoning          0     4\n",
              "LotFrontage     259   227\n",
              "Alley          1369  1352\n",
              "Utilities         0     2\n",
              "Exterior1st       0     1\n",
              "Exterior2nd       0     1\n",
              "MasVnrType        8    16\n",
              "MasVnrArea        8    15\n",
              "BsmtQual         37    44\n",
              "BsmtCond         37    45\n",
              "BsmtExposure     38    44\n",
              "BsmtFinType1     37    42\n",
              "BsmtFinSF1        0     1\n",
              "BsmtFinType2     38    42\n",
              "BsmtFinSF2        0     1\n",
              "BsmtUnfSF         0     1\n",
              "TotalBsmtSF       0     1\n",
              "Electrical        1     0\n",
              "BsmtFullBath      0     2\n",
              "BsmtHalfBath      0     2\n",
              "KitchenQual       0     1\n",
              "Functional        0     2\n",
              "FireplaceQu     690   730\n",
              "GarageType       81    76\n",
              "GarageYrBlt      81    78\n",
              "GarageFinish     81    78\n",
              "GarageCars        0     1\n",
              "GarageArea        0     1\n",
              "GarageQual       81    78\n",
              "GarageCond       81    78\n",
              "PoolQC         1453  1456\n",
              "Fence          1179  1169\n",
              "MiscFeature    1406  1408\n",
              "SaleType          0     1"
            ]
          },
          "metadata": {
            "tags": []
          },
          "execution_count": 7
        }
      ]
    },
    {
      "metadata": {
        "id": "0hzd_onRg67R",
        "colab_type": "code",
        "colab": {
          "base_uri": "https://localhost:8080/",
          "height": 479
        },
        "outputId": "5887f59d-3530-410d-f249-7be88a7e080e"
      },
      "cell_type": "code",
      "source": [
        "#show the missing values in a plot\n",
        "data_missing = (data.isnull().sum(axis=0)/data.shape[0]) * 100\n",
        "data_missing = data_missing.drop(data_missing[data_missing == 0].index).sort_values(ascending=False)\n",
        "plt.figure(figsize=(12, 6))\n",
        "plt.xticks(rotation=\"90\")\n",
        "sns.barplot(x=data_missing.index, y=data_missing)"
      ],
      "execution_count": 8,
      "outputs": [
        {
          "output_type": "stream",
          "text": [
            "/usr/local/lib/python3.6/dist-packages/seaborn/categorical.py:1428: FutureWarning: remove_na is deprecated and is a private function. Do not use.\n",
            "  stat_data = remove_na(group_data)\n"
          ],
          "name": "stderr"
        },
        {
          "output_type": "execute_result",
          "data": {
            "text/plain": [
              "<matplotlib.axes._subplots.AxesSubplot at 0x7f4a33a8ce10>"
            ]
          },
          "metadata": {
            "tags": []
          },
          "execution_count": 8
        },
        {
          "output_type": "display_data",
          "data": {
            "image/png": "[encoded data removed]",
            "text/plain": [
              "<Figure size 864x432 with 1 Axes>"
            ]
          },
          "metadata": {
            "tags": []
          }
        }
      ]
    },
    {
      "metadata": {
        "id": "O-7FBgOyg67V",
        "colab_type": "text"
      },
      "cell_type": "markdown",
      "source": [
        "From the figure, we see that nearly 100% values of the feature/column 'PoolQC' are missing <br>\n",
        "We can simply delete these features (drop these columns from the table) of which >=50% values are missing"
      ]
    },
    {
      "metadata": {
        "id": "Bvh9tqZLg67W",
        "colab_type": "code",
        "colab": {
          "base_uri": "https://localhost:8080/",
          "height": 34
        },
        "outputId": "4678c0d0-a140-4bc9-eba0-8be750191f97"
      },
      "cell_type": "code",
      "source": [
        "feature_drop = data_missing[data_missing >=50].index\n",
        "feature_drop"
      ],
      "execution_count": 9,
      "outputs": [
        {
          "output_type": "execute_result",
          "data": {
            "text/plain": [
              "Index(['PoolQC', 'MiscFeature', 'Alley', 'Fence'], dtype='object')"
            ]
          },
          "metadata": {
            "tags": []
          },
          "execution_count": 9
        }
      ]
    },
    {
      "metadata": {
        "id": "ZN_xHyJVg67a",
        "colab_type": "code",
        "colab": {}
      },
      "cell_type": "code",
      "source": [
        "#drop the columns\n",
        "data=data.drop(columns=feature_drop)\n",
        "#drop Id\n",
        "data=data.drop(columns='Id')"
      ],
      "execution_count": 0,
      "outputs": []
    },
    {
      "metadata": {
        "id": "3Ne_x_vkg67d",
        "colab_type": "code",
        "colab": {
          "base_uri": "https://localhost:8080/",
          "height": 244
        },
        "outputId": "06a18f62-b26c-41fa-d9a2-402ad3e567da"
      },
      "cell_type": "code",
      "source": [
        "data.head()"
      ],
      "execution_count": 11,
      "outputs": [
        {
          "output_type": "execute_result",
          "data": {
            "text/html": [
              "<div>\n",
              "<style scoped>\n",
              "    .dataframe tbody tr th:only-of-type {\n",
              "        vertical-align: middle;\n",
              "    }\n",
              "\n",
              "    .dataframe tbody tr th {\n",
              "        vertical-align: top;\n",
              "    }\n",
              "\n",
              "    .dataframe thead th {\n",
              "        text-align: right;\n",
              "    }\n",
              "</style>\n",
              "<table border=\"1\" class=\"dataframe\">\n",
              "  <thead>\n",
              "    <tr style=\"text-align: right;\">\n",
              "      <th></th>\n",
              "      <th>MSSubClass</th>\n",
              "      <th>MSZoning</th>\n",
              "      <th>LotFrontage</th>\n",
              "      <th>LotArea</th>\n",
              "      <th>Street</th>\n",
              "      <th>LotShape</th>\n",
              "      <th>LandContour</th>\n",
              "      <th>Utilities</th>\n",
              "      <th>LotConfig</th>\n",
              "      <th>LandSlope</th>\n",
              "      <th>...</th>\n",
              "      <th>3SsnPorch</th>\n",
              "      <th>ScreenPorch</th>\n",
              "      <th>PoolArea</th>\n",
              "      <th>MiscVal</th>\n",
              "      <th>MoSold</th>\n",
              "      <th>YrSold</th>\n",
              "      <th>SaleType</th>\n",
              "      <th>SaleCondition</th>\n",
              "      <th>SalePrice</th>\n",
              "      <th>train</th>\n",
              "    </tr>\n",
              "  </thead>\n",
              "  <tbody>\n",
              "    <tr>\n",
              "      <th>0</th>\n",
              "      <td>60</td>\n",
              "      <td>RL</td>\n",
              "      <td>65.0</td>\n",
              "      <td>8450</td>\n",
              "      <td>Pave</td>\n",
              "      <td>Reg</td>\n",
              "      <td>Lvl</td>\n",
              "      <td>AllPub</td>\n",
              "      <td>Inside</td>\n",
              "      <td>Gtl</td>\n",
              "      <td>...</td>\n",
              "      <td>0</td>\n",
              "      <td>0</td>\n",
              "      <td>0</td>\n",
              "      <td>0</td>\n",
              "      <td>2</td>\n",
              "      <td>2008</td>\n",
              "      <td>WD</td>\n",
              "      <td>Normal</td>\n",
              "      <td>208500.0</td>\n",
              "      <td>1</td>\n",
              "    </tr>\n",
              "    <tr>\n",
              "      <th>1</th>\n",
              "      <td>20</td>\n",
              "      <td>RL</td>\n",
              "      <td>80.0</td>\n",
              "      <td>9600</td>\n",
              "      <td>Pave</td>\n",
              "      <td>Reg</td>\n",
              "      <td>Lvl</td>\n",
              "      <td>AllPub</td>\n",
              "      <td>FR2</td>\n",
              "      <td>Gtl</td>\n",
              "      <td>...</td>\n",
              "      <td>0</td>\n",
              "      <td>0</td>\n",
              "      <td>0</td>\n",
              "      <td>0</td>\n",
              "      <td>5</td>\n",
              "      <td>2007</td>\n",
              "      <td>WD</td>\n",
              "      <td>Normal</td>\n",
              "      <td>181500.0</td>\n",
              "      <td>1</td>\n",
              "    </tr>\n",
              "    <tr>\n",
              "      <th>2</th>\n",
              "      <td>60</td>\n",
              "      <td>RL</td>\n",
              "      <td>68.0</td>\n",
              "      <td>11250</td>\n",
              "      <td>Pave</td>\n",
              "      <td>IR1</td>\n",
              "      <td>Lvl</td>\n",
              "      <td>AllPub</td>\n",
              "      <td>Inside</td>\n",
              "      <td>Gtl</td>\n",
              "      <td>...</td>\n",
              "      <td>0</td>\n",
              "      <td>0</td>\n",
              "      <td>0</td>\n",
              "      <td>0</td>\n",
              "      <td>9</td>\n",
              "      <td>2008</td>\n",
              "      <td>WD</td>\n",
              "      <td>Normal</td>\n",
              "      <td>223500.0</td>\n",
              "      <td>1</td>\n",
              "    </tr>\n",
              "    <tr>\n",
              "      <th>3</th>\n",
              "      <td>70</td>\n",
              "      <td>RL</td>\n",
              "      <td>60.0</td>\n",
              "      <td>9550</td>\n",
              "      <td>Pave</td>\n",
              "      <td>IR1</td>\n",
              "      <td>Lvl</td>\n",
              "      <td>AllPub</td>\n",
              "      <td>Corner</td>\n",
              "      <td>Gtl</td>\n",
              "      <td>...</td>\n",
              "      <td>0</td>\n",
              "      <td>0</td>\n",
              "      <td>0</td>\n",
              "      <td>0</td>\n",
              "      <td>2</td>\n",
              "      <td>2006</td>\n",
              "      <td>WD</td>\n",
              "      <td>Abnorml</td>\n",
              "      <td>140000.0</td>\n",
              "      <td>1</td>\n",
              "    </tr>\n",
              "    <tr>\n",
              "      <th>4</th>\n",
              "      <td>60</td>\n",
              "      <td>RL</td>\n",
              "      <td>84.0</td>\n",
              "      <td>14260</td>\n",
              "      <td>Pave</td>\n",
              "      <td>IR1</td>\n",
              "      <td>Lvl</td>\n",
              "      <td>AllPub</td>\n",
              "      <td>FR2</td>\n",
              "      <td>Gtl</td>\n",
              "      <td>...</td>\n",
              "      <td>0</td>\n",
              "      <td>0</td>\n",
              "      <td>0</td>\n",
              "      <td>0</td>\n",
              "      <td>12</td>\n",
              "      <td>2008</td>\n",
              "      <td>WD</td>\n",
              "      <td>Normal</td>\n",
              "      <td>250000.0</td>\n",
              "      <td>1</td>\n",
              "    </tr>\n",
              "  </tbody>\n",
              "</table>\n",
              "<p>5 rows × 77 columns</p>\n",
              "</div>"
            ],
            "text/plain": [
              "   MSSubClass MSZoning  LotFrontage  LotArea Street LotShape LandContour  \\\n",
              "0          60       RL         65.0     8450   Pave      Reg         Lvl   \n",
              "1          20       RL         80.0     9600   Pave      Reg         Lvl   \n",
              "2          60       RL         68.0    11250   Pave      IR1         Lvl   \n",
              "3          70       RL         60.0     9550   Pave      IR1         Lvl   \n",
              "4          60       RL         84.0    14260   Pave      IR1         Lvl   \n",
              "\n",
              "  Utilities LotConfig LandSlope  ...  3SsnPorch ScreenPorch PoolArea MiscVal  \\\n",
              "0    AllPub    Inside       Gtl  ...          0           0        0       0   \n",
              "1    AllPub       FR2       Gtl  ...          0           0        0       0   \n",
              "2    AllPub    Inside       Gtl  ...          0           0        0       0   \n",
              "3    AllPub    Corner       Gtl  ...          0           0        0       0   \n",
              "4    AllPub       FR2       Gtl  ...          0           0        0       0   \n",
              "\n",
              "  MoSold  YrSold  SaleType  SaleCondition  SalePrice train  \n",
              "0      2    2008        WD         Normal   208500.0     1  \n",
              "1      5    2007        WD         Normal   181500.0     1  \n",
              "2      9    2008        WD         Normal   223500.0     1  \n",
              "3      2    2006        WD        Abnorml   140000.0     1  \n",
              "4     12    2008        WD         Normal   250000.0     1  \n",
              "\n",
              "[5 rows x 77 columns]"
            ]
          },
          "metadata": {
            "tags": []
          },
          "execution_count": 11
        }
      ]
    },
    {
      "metadata": {
        "id": "eLBWQSC0g67h",
        "colab_type": "text"
      },
      "cell_type": "markdown",
      "source": [
        "For those features with < 50% missing values, we can use impute method. <br>\n",
        "Missing numerical values can be imputed with a constant value, or some statistics (mean, median or most frequent) of each column in which the missing values are located. <br>\n",
        "Missing categorical/non-numeric values can be imputed with the most frequent category, or a new category-'nothing'"
      ]
    },
    {
      "metadata": {
        "scrolled": false,
        "id": "6cVkb6kag67i",
        "colab_type": "code",
        "colab": {}
      },
      "cell_type": "code",
      "source": [
        "numerical_column=[]\n",
        "categorical_column=[]\n",
        "for c in data.columns:\n",
        "    v=data[c]\n",
        "    v=v[~v.isnull()]\n",
        "    if data[c].dtype == np.dtype('O'): # non-numeric values       \n",
        "        #data[c]=data[c].fillna(v.value_counts().index[0]) # the most frequent category\n",
        "        data[c]=data[c].fillna('nothing') # a new category         \n",
        "        categorical_column.append(c)\n",
        "    else: # numeric \n",
        "        if c != 'train' and c != 'SalePrice':\n",
        "            data[c]=data[c].fillna(v.median()) \n",
        "        numerical_column.append(c)        "
      ],
      "execution_count": 0,
      "outputs": []
    },
    {
      "metadata": {
        "id": "dob0yMBJg67l",
        "colab_type": "text"
      },
      "cell_type": "markdown",
      "source": [
        "check if there is any missing value"
      ]
    },
    {
      "metadata": {
        "id": "2va2gcujg67m",
        "colab_type": "code",
        "colab": {
          "base_uri": "https://localhost:8080/",
          "height": 96
        },
        "outputId": "802c972a-85a1-479a-a581-b18955ab7772"
      },
      "cell_type": "code",
      "source": [
        "data[data.isnull().any(axis=1)]"
      ],
      "execution_count": 13,
      "outputs": [
        {
          "output_type": "execute_result",
          "data": {
            "text/html": [
              "<div>\n",
              "<style scoped>\n",
              "    .dataframe tbody tr th:only-of-type {\n",
              "        vertical-align: middle;\n",
              "    }\n",
              "\n",
              "    .dataframe tbody tr th {\n",
              "        vertical-align: top;\n",
              "    }\n",
              "\n",
              "    .dataframe thead th {\n",
              "        text-align: right;\n",
              "    }\n",
              "</style>\n",
              "<table border=\"1\" class=\"dataframe\">\n",
              "  <thead>\n",
              "    <tr style=\"text-align: right;\">\n",
              "      <th></th>\n",
              "      <th>MSSubClass</th>\n",
              "      <th>MSZoning</th>\n",
              "      <th>LotFrontage</th>\n",
              "      <th>LotArea</th>\n",
              "      <th>Street</th>\n",
              "      <th>LotShape</th>\n",
              "      <th>LandContour</th>\n",
              "      <th>Utilities</th>\n",
              "      <th>LotConfig</th>\n",
              "      <th>LandSlope</th>\n",
              "      <th>...</th>\n",
              "      <th>3SsnPorch</th>\n",
              "      <th>ScreenPorch</th>\n",
              "      <th>PoolArea</th>\n",
              "      <th>MiscVal</th>\n",
              "      <th>MoSold</th>\n",
              "      <th>YrSold</th>\n",
              "      <th>SaleType</th>\n",
              "      <th>SaleCondition</th>\n",
              "      <th>SalePrice</th>\n",
              "      <th>train</th>\n",
              "    </tr>\n",
              "  </thead>\n",
              "  <tbody>\n",
              "  </tbody>\n",
              "</table>\n",
              "<p>0 rows × 77 columns</p>\n",
              "</div>"
            ],
            "text/plain": [
              "Empty DataFrame\n",
              "Columns: [MSSubClass, MSZoning, LotFrontage, LotArea, Street, LotShape, LandContour, Utilities, LotConfig, LandSlope, Neighborhood, Condition1, Condition2, BldgType, HouseStyle, OverallQual, OverallCond, YearBuilt, YearRemodAdd, RoofStyle, RoofMatl, Exterior1st, Exterior2nd, MasVnrType, MasVnrArea, ExterQual, ExterCond, Foundation, BsmtQual, BsmtCond, BsmtExposure, BsmtFinType1, BsmtFinSF1, BsmtFinType2, BsmtFinSF2, BsmtUnfSF, TotalBsmtSF, Heating, HeatingQC, CentralAir, Electrical, 1stFlrSF, 2ndFlrSF, LowQualFinSF, GrLivArea, BsmtFullBath, BsmtHalfBath, FullBath, HalfBath, BedroomAbvGr, KitchenAbvGr, KitchenQual, TotRmsAbvGrd, Functional, Fireplaces, FireplaceQu, GarageType, GarageYrBlt, GarageFinish, GarageCars, GarageArea, GarageQual, GarageCond, PavedDrive, WoodDeckSF, OpenPorchSF, EnclosedPorch, 3SsnPorch, ScreenPorch, PoolArea, MiscVal, MoSold, YrSold, SaleType, SaleCondition, SalePrice, train]\n",
              "Index: []\n",
              "\n",
              "[0 rows x 77 columns]"
            ]
          },
          "metadata": {
            "tags": []
          },
          "execution_count": 13
        }
      ]
    },
    {
      "metadata": {
        "id": "b7yvT_ZVg67q",
        "colab_type": "text"
      },
      "cell_type": "markdown",
      "source": [
        "convert categorical values to numerical values using one-hot encoding <br>\n",
        "note: there are other methods to encode categorical values"
      ]
    },
    {
      "metadata": {
        "id": "BJAyw0zGg67r",
        "colab_type": "code",
        "colab": {
          "base_uri": "https://localhost:8080/",
          "height": 34
        },
        "outputId": "3b314108-50b1-41c1-a237-58abdf55f200"
      },
      "cell_type": "code",
      "source": [
        "data=pd.get_dummies(data, columns=categorical_column)\n",
        "data.shape"
      ],
      "execution_count": 14,
      "outputs": [
        {
          "output_type": "execute_result",
          "data": {
            "text/plain": [
              "(2919, 296)"
            ]
          },
          "metadata": {
            "tags": []
          },
          "execution_count": 14
        }
      ]
    },
    {
      "metadata": {
        "id": "cOcaLx_Fg67x",
        "colab_type": "code",
        "colab": {
          "base_uri": "https://localhost:8080/",
          "height": 244
        },
        "outputId": "c8c145ea-1ca0-4cfd-9da7-d2bab287704f"
      },
      "cell_type": "code",
      "source": [
        "#the table has many new columns\n",
        "data.head()"
      ],
      "execution_count": 15,
      "outputs": [
        {
          "output_type": "execute_result",
          "data": {
            "text/html": [
              "<div>\n",
              "<style scoped>\n",
              "    .dataframe tbody tr th:only-of-type {\n",
              "        vertical-align: middle;\n",
              "    }\n",
              "\n",
              "    .dataframe tbody tr th {\n",
              "        vertical-align: top;\n",
              "    }\n",
              "\n",
              "    .dataframe thead th {\n",
              "        text-align: right;\n",
              "    }\n",
              "</style>\n",
              "<table border=\"1\" class=\"dataframe\">\n",
              "  <thead>\n",
              "    <tr style=\"text-align: right;\">\n",
              "      <th></th>\n",
              "      <th>MSSubClass</th>\n",
              "      <th>LotFrontage</th>\n",
              "      <th>LotArea</th>\n",
              "      <th>OverallQual</th>\n",
              "      <th>OverallCond</th>\n",
              "      <th>YearBuilt</th>\n",
              "      <th>YearRemodAdd</th>\n",
              "      <th>MasVnrArea</th>\n",
              "      <th>BsmtFinSF1</th>\n",
              "      <th>BsmtFinSF2</th>\n",
              "      <th>...</th>\n",
              "      <th>SaleType_New</th>\n",
              "      <th>SaleType_Oth</th>\n",
              "      <th>SaleType_WD</th>\n",
              "      <th>SaleType_nothing</th>\n",
              "      <th>SaleCondition_Abnorml</th>\n",
              "      <th>SaleCondition_AdjLand</th>\n",
              "      <th>SaleCondition_Alloca</th>\n",
              "      <th>SaleCondition_Family</th>\n",
              "      <th>SaleCondition_Normal</th>\n",
              "      <th>SaleCondition_Partial</th>\n",
              "    </tr>\n",
              "  </thead>\n",
              "  <tbody>\n",
              "    <tr>\n",
              "      <th>0</th>\n",
              "      <td>60</td>\n",
              "      <td>65.0</td>\n",
              "      <td>8450</td>\n",
              "      <td>7</td>\n",
              "      <td>5</td>\n",
              "      <td>2003</td>\n",
              "      <td>2003</td>\n",
              "      <td>196.0</td>\n",
              "      <td>706.0</td>\n",
              "      <td>0.0</td>\n",
              "      <td>...</td>\n",
              "      <td>0</td>\n",
              "      <td>0</td>\n",
              "      <td>1</td>\n",
              "      <td>0</td>\n",
              "      <td>0</td>\n",
              "      <td>0</td>\n",
              "      <td>0</td>\n",
              "      <td>0</td>\n",
              "      <td>1</td>\n",
              "      <td>0</td>\n",
              "    </tr>\n",
              "    <tr>\n",
              "      <th>1</th>\n",
              "      <td>20</td>\n",
              "      <td>80.0</td>\n",
              "      <td>9600</td>\n",
              "      <td>6</td>\n",
              "      <td>8</td>\n",
              "      <td>1976</td>\n",
              "      <td>1976</td>\n",
              "      <td>0.0</td>\n",
              "      <td>978.0</td>\n",
              "      <td>0.0</td>\n",
              "      <td>...</td>\n",
              "      <td>0</td>\n",
              "      <td>0</td>\n",
              "      <td>1</td>\n",
              "      <td>0</td>\n",
              "      <td>0</td>\n",
              "      <td>0</td>\n",
              "      <td>0</td>\n",
              "      <td>0</td>\n",
              "      <td>1</td>\n",
              "      <td>0</td>\n",
              "    </tr>\n",
              "    <tr>\n",
              "      <th>2</th>\n",
              "      <td>60</td>\n",
              "      <td>68.0</td>\n",
              "      <td>11250</td>\n",
              "      <td>7</td>\n",
              "      <td>5</td>\n",
              "      <td>2001</td>\n",
              "      <td>2002</td>\n",
              "      <td>162.0</td>\n",
              "      <td>486.0</td>\n",
              "      <td>0.0</td>\n",
              "      <td>...</td>\n",
              "      <td>0</td>\n",
              "      <td>0</td>\n",
              "      <td>1</td>\n",
              "      <td>0</td>\n",
              "      <td>0</td>\n",
              "      <td>0</td>\n",
              "      <td>0</td>\n",
              "      <td>0</td>\n",
              "      <td>1</td>\n",
              "      <td>0</td>\n",
              "    </tr>\n",
              "    <tr>\n",
              "      <th>3</th>\n",
              "      <td>70</td>\n",
              "      <td>60.0</td>\n",
              "      <td>9550</td>\n",
              "      <td>7</td>\n",
              "      <td>5</td>\n",
              "      <td>1915</td>\n",
              "      <td>1970</td>\n",
              "      <td>0.0</td>\n",
              "      <td>216.0</td>\n",
              "      <td>0.0</td>\n",
              "      <td>...</td>\n",
              "      <td>0</td>\n",
              "      <td>0</td>\n",
              "      <td>1</td>\n",
              "      <td>0</td>\n",
              "      <td>1</td>\n",
              "      <td>0</td>\n",
              "      <td>0</td>\n",
              "      <td>0</td>\n",
              "      <td>0</td>\n",
              "      <td>0</td>\n",
              "    </tr>\n",
              "    <tr>\n",
              "      <th>4</th>\n",
              "      <td>60</td>\n",
              "      <td>84.0</td>\n",
              "      <td>14260</td>\n",
              "      <td>8</td>\n",
              "      <td>5</td>\n",
              "      <td>2000</td>\n",
              "      <td>2000</td>\n",
              "      <td>350.0</td>\n",
              "      <td>655.0</td>\n",
              "      <td>0.0</td>\n",
              "      <td>...</td>\n",
              "      <td>0</td>\n",
              "      <td>0</td>\n",
              "      <td>1</td>\n",
              "      <td>0</td>\n",
              "      <td>0</td>\n",
              "      <td>0</td>\n",
              "      <td>0</td>\n",
              "      <td>0</td>\n",
              "      <td>1</td>\n",
              "      <td>0</td>\n",
              "    </tr>\n",
              "  </tbody>\n",
              "</table>\n",
              "<p>5 rows × 296 columns</p>\n",
              "</div>"
            ],
            "text/plain": [
              "   MSSubClass  LotFrontage  LotArea  OverallQual  OverallCond  YearBuilt  \\\n",
              "0          60         65.0     8450            7            5       2003   \n",
              "1          20         80.0     9600            6            8       1976   \n",
              "2          60         68.0    11250            7            5       2001   \n",
              "3          70         60.0     9550            7            5       1915   \n",
              "4          60         84.0    14260            8            5       2000   \n",
              "\n",
              "   YearRemodAdd  MasVnrArea  BsmtFinSF1  BsmtFinSF2          ...            \\\n",
              "0          2003       196.0       706.0         0.0          ...             \n",
              "1          1976         0.0       978.0         0.0          ...             \n",
              "2          2002       162.0       486.0         0.0          ...             \n",
              "3          1970         0.0       216.0         0.0          ...             \n",
              "4          2000       350.0       655.0         0.0          ...             \n",
              "\n",
              "   SaleType_New  SaleType_Oth  SaleType_WD  SaleType_nothing  \\\n",
              "0             0             0            1                 0   \n",
              "1             0             0            1                 0   \n",
              "2             0             0            1                 0   \n",
              "3             0             0            1                 0   \n",
              "4             0             0            1                 0   \n",
              "\n",
              "   SaleCondition_Abnorml  SaleCondition_AdjLand  SaleCondition_Alloca  \\\n",
              "0                      0                      0                     0   \n",
              "1                      0                      0                     0   \n",
              "2                      0                      0                     0   \n",
              "3                      1                      0                     0   \n",
              "4                      0                      0                     0   \n",
              "\n",
              "   SaleCondition_Family  SaleCondition_Normal  SaleCondition_Partial  \n",
              "0                     0                     1                      0  \n",
              "1                     0                     1                      0  \n",
              "2                     0                     1                      0  \n",
              "3                     0                     0                      0  \n",
              "4                     0                     1                      0  \n",
              "\n",
              "[5 rows x 296 columns]"
            ]
          },
          "metadata": {
            "tags": []
          },
          "execution_count": 15
        }
      ]
    },
    {
      "metadata": {
        "id": "h7uqoEdpg675",
        "colab_type": "text"
      },
      "cell_type": "markdown",
      "source": [
        "### get training data and testing data from `data`"
      ]
    },
    {
      "metadata": {
        "id": "9UK4jnE3g677",
        "colab_type": "code",
        "colab": {}
      },
      "cell_type": "code",
      "source": [
        "data_train = data[data['train']==1]\n",
        "X_train=data_train.drop(columns=['SalePrice', 'train']).values\n",
        "Y_train=data_train['SalePrice'].values"
      ],
      "execution_count": 0,
      "outputs": []
    },
    {
      "metadata": {
        "id": "6-l-K1tig67_",
        "colab_type": "code",
        "colab": {
          "base_uri": "https://localhost:8080/",
          "height": 34
        },
        "outputId": "0789056e-84f0-4b93-82d4-fc692ae1bdc4"
      },
      "cell_type": "code",
      "source": [
        "X_train.dtype"
      ],
      "execution_count": 17,
      "outputs": [
        {
          "output_type": "execute_result",
          "data": {
            "text/plain": [
              "dtype('float64')"
            ]
          },
          "metadata": {
            "tags": []
          },
          "execution_count": 17
        }
      ]
    },
    {
      "metadata": {
        "id": "NMOpGtC7g68C",
        "colab_type": "code",
        "colab": {
          "base_uri": "https://localhost:8080/",
          "height": 34
        },
        "outputId": "95c8bf2d-f205-4542-f280-f7a4cdb222f8"
      },
      "cell_type": "code",
      "source": [
        "X_train.shape"
      ],
      "execution_count": 18,
      "outputs": [
        {
          "output_type": "execute_result",
          "data": {
            "text/plain": [
              "(1460, 294)"
            ]
          },
          "metadata": {
            "tags": []
          },
          "execution_count": 18
        }
      ]
    },
    {
      "metadata": {
        "id": "Yl2lIt7ug68G",
        "colab_type": "code",
        "colab": {
          "base_uri": "https://localhost:8080/",
          "height": 34
        },
        "outputId": "8f3d0006-112d-4932-b291-682c5749e080"
      },
      "cell_type": "code",
      "source": [
        "Y_train.dtype"
      ],
      "execution_count": 19,
      "outputs": [
        {
          "output_type": "execute_result",
          "data": {
            "text/plain": [
              "dtype('float64')"
            ]
          },
          "metadata": {
            "tags": []
          },
          "execution_count": 19
        }
      ]
    },
    {
      "metadata": {
        "id": "gdmqGj7og68J",
        "colab_type": "code",
        "colab": {}
      },
      "cell_type": "code",
      "source": [
        "data_test = data[data['train']==0]\n",
        "X_test=data_test.drop(columns=['SalePrice', 'train']).values\n",
        "Y_test=data_test['SalePrice'].values"
      ],
      "execution_count": 0,
      "outputs": []
    },
    {
      "metadata": {
        "id": "clw9TU-9g68M",
        "colab_type": "text"
      },
      "cell_type": "markdown",
      "source": [
        "show the distribution of SalePrice"
      ]
    },
    {
      "metadata": {
        "id": "OXrwklUBg68N",
        "colab_type": "code",
        "colab": {
          "base_uri": "https://localhost:8080/",
          "height": 297
        },
        "outputId": "8277d68a-d4d6-458d-f221-b5f52038d3a6"
      },
      "cell_type": "code",
      "source": [
        "_=plt.hist(data_train.SalePrice.values, bins=100)\n",
        "plt.title('histogram of SalePrice in training set')"
      ],
      "execution_count": 21,
      "outputs": [
        {
          "output_type": "execute_result",
          "data": {
            "text/plain": [
              "Text(0.5, 1.0, 'histogram of SalePrice in training set')"
            ]
          },
          "metadata": {
            "tags": []
          },
          "execution_count": 21
        },
        {
          "output_type": "display_data",
          "data": {
            "image/png": "[encoded data removed]",
            "text/plain": [
              "<Figure size 432x288 with 1 Axes>"
            ]
          },
          "metadata": {
            "tags": []
          }
        }
      ]
    },
    {
      "metadata": {
        "id": "sadJ0DYjg68R",
        "colab_type": "code",
        "colab": {
          "base_uri": "https://localhost:8080/",
          "height": 297
        },
        "outputId": "933a0f19-9d44-46e3-f05a-4891c28e5a95"
      },
      "cell_type": "code",
      "source": [
        "_=plt.hist(data_test.SalePrice.values, bins=100)\n",
        "plt.title('histogram of SalePrice in testing set')"
      ],
      "execution_count": 22,
      "outputs": [
        {
          "output_type": "execute_result",
          "data": {
            "text/plain": [
              "Text(0.5, 1.0, 'histogram of SalePrice in testing set')"
            ]
          },
          "metadata": {
            "tags": []
          },
          "execution_count": 22
        },
        {
          "output_type": "display_data",
          "data": {
            "image/png": "[encoded data removed]",
            "text/plain": [
              "<Figure size 432x288 with 1 Axes>"
            ]
          },
          "metadata": {
            "tags": []
          }
        }
      ]
    },
    {
      "metadata": {
        "id": "mmjHqgfZg68U",
        "colab_type": "text"
      },
      "cell_type": "markdown",
      "source": [
        "### A house is expensive if SalePrice > 163000 (median price in the training set)\n",
        "### A house is affordable if SalePrice <= 163000\n",
        "### Now, we have a classification problem: affordable (label 0) vs expensive (label 1)"
      ]
    },
    {
      "metadata": {
        "id": "fNpaMO6Wg68V",
        "colab_type": "code",
        "colab": {
          "base_uri": "https://localhost:8080/",
          "height": 34
        },
        "outputId": "e8c7743c-39fe-4ede-f4d8-e4d83748739a"
      },
      "cell_type": "code",
      "source": [
        "np.median(Y_train)"
      ],
      "execution_count": 23,
      "outputs": [
        {
          "output_type": "execute_result",
          "data": {
            "text/plain": [
              "163000.0"
            ]
          },
          "metadata": {
            "tags": []
          },
          "execution_count": 23
        }
      ]
    },
    {
      "metadata": {
        "id": "W_n2Un3Sg68Y",
        "colab_type": "code",
        "colab": {}
      },
      "cell_type": "code",
      "source": [
        "#make new labels\n",
        "t=np.median(Y_train)\n",
        "Y_train_old = Y_train.copy()\n",
        "Y_train[Y_train_old<=t]=0\n",
        "Y_train[Y_train_old>t]=1\n",
        "#\n",
        "Y_test_old = Y_test.copy()\n",
        "Y_test[Y_test_old<=t]=0\n",
        "Y_test[Y_test_old>t]=1"
      ],
      "execution_count": 0,
      "outputs": []
    },
    {
      "metadata": {
        "id": "RP7qikIog68b",
        "colab_type": "text"
      },
      "cell_type": "markdown",
      "source": [
        "### Classification:  affordable vs expensive using a linear classifier  - logistic regression\n",
        "note: you could try linear SVM, but it is very slow..."
      ]
    },
    {
      "metadata": {
        "id": "wymJPoEWg68c",
        "colab_type": "code",
        "colab": {
          "base_uri": "https://localhost:8080/",
          "height": 138
        },
        "outputId": "4d718c50-f77e-4d16-8b6d-20a7db60435a"
      },
      "cell_type": "code",
      "source": [
        "from sklearn.linear_model import LogisticRegression\n",
        "linear_model = LogisticRegression()\n",
        "linear_model.fit(X_train, Y_train)"
      ],
      "execution_count": 25,
      "outputs": [
        {
          "output_type": "stream",
          "text": [
            "/usr/local/lib/python3.6/dist-packages/sklearn/linear_model/logistic.py:433: FutureWarning: Default solver will be changed to 'lbfgs' in 0.22. Specify a solver to silence this warning.\n",
            "  FutureWarning)\n"
          ],
          "name": "stderr"
        },
        {
          "output_type": "execute_result",
          "data": {
            "text/plain": [
              "LogisticRegression(C=1.0, class_weight=None, dual=False, fit_intercept=True,\n",
              "          intercept_scaling=1, max_iter=100, multi_class='warn',\n",
              "          n_jobs=None, penalty='l2', random_state=None, solver='warn',\n",
              "          tol=0.0001, verbose=0, warm_start=False)"
            ]
          },
          "metadata": {
            "tags": []
          },
          "execution_count": 25
        }
      ]
    },
    {
      "metadata": {
        "id": "qr3QMUqFg68f",
        "colab_type": "text"
      },
      "cell_type": "markdown",
      "source": [
        "show the training accuracy"
      ]
    },
    {
      "metadata": {
        "id": "WIFDTGiCg68g",
        "colab_type": "code",
        "colab": {
          "base_uri": "https://localhost:8080/",
          "height": 34
        },
        "outputId": "8e7ee35c-1951-4f67-f6cc-6b200a402111"
      },
      "cell_type": "code",
      "source": [
        "linear_model.score(X_train, Y_train)"
      ],
      "execution_count": 26,
      "outputs": [
        {
          "output_type": "execute_result",
          "data": {
            "text/plain": [
              "0.9465753424657535"
            ]
          },
          "metadata": {
            "tags": []
          },
          "execution_count": 26
        }
      ]
    },
    {
      "metadata": {
        "id": "FsyAsqyzg68l",
        "colab_type": "text"
      },
      "cell_type": "markdown",
      "source": [
        "show the testing  accuracy"
      ]
    },
    {
      "metadata": {
        "id": "8bhMXpA4g68m",
        "colab_type": "code",
        "colab": {
          "base_uri": "https://localhost:8080/",
          "height": 34
        },
        "outputId": "8fda6375-eab3-4bac-f79d-55832c995fa9"
      },
      "cell_type": "code",
      "source": [
        "linear_model.score(X_test, Y_test)"
      ],
      "execution_count": 27,
      "outputs": [
        {
          "output_type": "execute_result",
          "data": {
            "text/plain": [
              "0.9636737491432488"
            ]
          },
          "metadata": {
            "tags": []
          },
          "execution_count": 27
        }
      ]
    },
    {
      "metadata": {
        "id": "Ms6cmCnwg68q",
        "colab_type": "text"
      },
      "cell_type": "markdown",
      "source": [
        "### Classification: affordable vs expensive using nonlinear classifiers\n",
        "Try the two types of models in the list:  <br>\n",
        "(1) KNN (hyperparameter is n_neighbors) <br>\n",
        "(2) random forest  <br>\n",
        "    It has many hyperparameters.  <br>\n",
        "    You can just focus on max_depth, and set n_estimators to 100  <br>\n",
        "    \n",
        "The requirements are the same as those in HW2_P2_T2.ipynb     <br>\n",
        "\n",
        "Note: remove `scoring=my_scorer` in cross_val_score(my_model, X_train, Y_train, cv=10, n_jobs=4) <br>\n",
        "\n",
        "You will get Bonus points (additional 10 points) if you install and try XGBoost <br>\n",
        "use XGBClassifier from xgboost.sklearn <br>"
      ]
    },
    {
      "metadata": {
        "id": "HEilEWyZg68q",
        "colab_type": "text"
      },
      "cell_type": "markdown",
      "source": [
        "#### KNeighborsClassifier"
      ]
    },
    {
      "metadata": {
        "id": "JDT2-H_yg68s",
        "colab_type": "code",
        "colab": {
          "base_uri": "https://localhost:8080/",
          "height": 313
        },
        "outputId": "294dae75-9fbf-4bdc-c080-fb10d5961708"
      },
      "cell_type": "code",
      "source": [
        "# write your code here - find the optimal hyperparameter n_neighbors\n",
        "# a for loop to do grid search or use GridSearchCV\n",
        "# try n_list=np.arange(1,30,1)\n",
        "# plot the curve: accuracy as a function of n_neighbors \n",
        "\n",
        "from sklearn.neighbors import KNeighborsClassifier\n",
        "\n",
        "MAPE_average_list=[]\n",
        "n_list=np.arange(1,30,1)\n",
        "for n in n_list:\n",
        "    my_model=KNeighborsClassifier(n_neighbors=n)\n",
        "    MAPE_array = cross_val_score(my_model, X_train, Y_train, cv=10, n_jobs=4)\n",
        "    MAPE_average_list.append(MAPE_array.mean())\n",
        "MAPE_average_list=np.array(MAPE_average_list)\n",
        "#hyperparameter_best = hyperparameter_list[np.argmin(MAPE_average_list)]\n",
        "n_best = n_list[np.argmax(MAPE_average_list)]\n",
        "print(n_best)\n",
        "#or hyperparameter_best is the point at which the curve hyperparameter~MAPE becomes flat \n",
        "plt.plot(n_list, MAPE_average_list, '.-b')\n",
        "plt.xlabel('n')\n",
        "plt.ylabel('MAPE') "
      ],
      "execution_count": 28,
      "outputs": [
        {
          "output_type": "stream",
          "text": [
            "11\n"
          ],
          "name": "stdout"
        },
        {
          "output_type": "execute_result",
          "data": {
            "text/plain": [
              "Text(0, 0.5, 'MAPE')"
            ]
          },
          "metadata": {
            "tags": []
          },
          "execution_count": 28
        },
        {
          "output_type": "display_data",
          "data": {
            "image/png": "[encoded data removed]",
            "text/plain": [
              "<Figure size 432x288 with 1 Axes>"
            ]
          },
          "metadata": {
            "tags": []
          }
        }
      ]
    },
    {
      "metadata": {
        "id": "a8kuPRrfg68v",
        "colab_type": "text"
      },
      "cell_type": "markdown",
      "source": [
        "build a KNeighborsClassifier using the best hyperparameter and fit it to the training data"
      ]
    },
    {
      "metadata": {
        "id": "_dwANdwag68w",
        "colab_type": "code",
        "colab": {
          "base_uri": "https://localhost:8080/",
          "height": 67
        },
        "outputId": "2bc1b04b-f8ca-42ae-afa1-66664bf6ca62"
      },
      "cell_type": "code",
      "source": [
        "from sklearn.neighbors import KNeighborsClassifier\n",
        "\n",
        "knn_model=KNeighborsClassifier(n_neighbors=11)\n",
        "knn_model.fit(X_train, Y_train)"
      ],
      "execution_count": 29,
      "outputs": [
        {
          "output_type": "execute_result",
          "data": {
            "text/plain": [
              "KNeighborsClassifier(algorithm='auto', leaf_size=30, metric='minkowski',\n",
              "           metric_params=None, n_jobs=None, n_neighbors=11, p=2,\n",
              "           weights='uniform')"
            ]
          },
          "metadata": {
            "tags": []
          },
          "execution_count": 29
        }
      ]
    },
    {
      "metadata": {
        "id": "xsjCaMS4g680",
        "colab_type": "text"
      },
      "cell_type": "markdown",
      "source": [
        "show the training accuracy"
      ]
    },
    {
      "metadata": {
        "id": "Po838EhGg680",
        "colab_type": "code",
        "colab": {
          "base_uri": "https://localhost:8080/",
          "height": 34
        },
        "outputId": "b4b51c29-4a9a-4d82-f02b-ab85a3d2c82b"
      },
      "cell_type": "code",
      "source": [
        "# write your code here\n",
        "knn_model.predict(X_train)\n",
        "knn_model.score(X_train, Y_train)"
      ],
      "execution_count": 30,
      "outputs": [
        {
          "output_type": "execute_result",
          "data": {
            "text/plain": [
              "0.8636986301369863"
            ]
          },
          "metadata": {
            "tags": []
          },
          "execution_count": 30
        }
      ]
    },
    {
      "metadata": {
        "id": "ssc8u8EJg683",
        "colab_type": "text"
      },
      "cell_type": "markdown",
      "source": [
        "show the testing accuracy"
      ]
    },
    {
      "metadata": {
        "id": "g3hVyqDXg684",
        "colab_type": "code",
        "colab": {
          "base_uri": "https://localhost:8080/",
          "height": 34
        },
        "outputId": "375a62a3-a0fa-4265-cb77-3566a15c1704"
      },
      "cell_type": "code",
      "source": [
        "# write your code here\n",
        "knn_model.score(X_test, Y_test)"
      ],
      "execution_count": 31,
      "outputs": [
        {
          "output_type": "execute_result",
          "data": {
            "text/plain": [
              "0.8526387936943112"
            ]
          },
          "metadata": {
            "tags": []
          },
          "execution_count": 31
        }
      ]
    },
    {
      "metadata": {
        "id": "U_5WfQi8g687",
        "colab_type": "text"
      },
      "cell_type": "markdown",
      "source": [
        "#### RandomForestClassifier"
      ]
    },
    {
      "metadata": {
        "id": "badHbIsng689",
        "colab_type": "code",
        "colab": {
          "base_uri": "https://localhost:8080/",
          "height": 313
        },
        "outputId": "58f2561c-2985-42dd-8e43-ab8dae7db2ee"
      },
      "cell_type": "code",
      "source": [
        "# write your code here - find the optimal hyperparameter max_depth\n",
        "# try depth_list=np.array([1, 2, 3, 4, 5, 10, 20, 30, 40, 50, 60, 70, 80, 90, 100])\n",
        "# plot the curve: accuracy as a function of max_depth \n",
        "from sklearn.ensemble import RandomForestRegressor\n",
        "\n",
        "MAPE_average_list=[]\n",
        "n_list=np.array([1, 2, 3, 4, 5, 10, 20, 30, 40, 50, 60, 70, 80, 90, 100])\n",
        "for n in n_list:\n",
        "    my_model=RandomForestRegressor(max_depth = n)\n",
        "    MAPE_array = cross_val_score(my_model, X_train, Y_train, cv=10,  n_jobs=4)\n",
        "    MAPE_average_list.append(MAPE_array.mean())\n",
        "MAPE_average_list=np.array(MAPE_average_list)\n",
        "#hyperparameter_best = hyperparameter_list[np.argmin(MAPE_average_list)]\n",
        "n_best = n_list[np.argmax(MAPE_average_list)]\n",
        "print(n_best)\n",
        "#or hyperparameter_best is the point at which the curve hyperparameter~MAPE becomes flat \n",
        "plt.plot(n_list, MAPE_average_list, '.-b')\n",
        "plt.xlabel('n')\n",
        "plt.ylabel('MAPE') "
      ],
      "execution_count": 32,
      "outputs": [
        {
          "output_type": "stream",
          "text": [
            "30\n"
          ],
          "name": "stdout"
        },
        {
          "output_type": "execute_result",
          "data": {
            "text/plain": [
              "Text(0, 0.5, 'MAPE')"
            ]
          },
          "metadata": {
            "tags": []
          },
          "execution_count": 32
        },
        {
          "output_type": "display_data",
          "data": {
            "image/png": "[encoded data removed]",
            "text/plain": [
              "<Figure size 432x288 with 1 Axes>"
            ]
          },
          "metadata": {
            "tags": []
          }
        }
      ]
    },
    {
      "metadata": {
        "id": "9GwJ2XSSg69E",
        "colab_type": "text"
      },
      "cell_type": "markdown",
      "source": [
        "build a RandomForestClassifier using the best hyperparameter and fit it to the training data"
      ]
    },
    {
      "metadata": {
        "id": "3_oOc6Oug69F",
        "colab_type": "code",
        "colab": {
          "base_uri": "https://localhost:8080/",
          "height": 188
        },
        "outputId": "4722a001-8976-499a-a1bf-719b211617dd"
      },
      "cell_type": "code",
      "source": [
        "# write your code here\n",
        "from sklearn.ensemble import RandomForestClassifier\n",
        "RFmodel = RandomForestClassifier(max_depth = n_best) # n_best is from the cell above\n",
        "RFmodel.fit(X_train, Y_train)"
      ],
      "execution_count": 33,
      "outputs": [
        {
          "output_type": "stream",
          "text": [
            "/usr/local/lib/python3.6/dist-packages/sklearn/ensemble/forest.py:246: FutureWarning: The default value of n_estimators will change from 10 in version 0.20 to 100 in 0.22.\n",
            "  \"10 in version 0.20 to 100 in 0.22.\", FutureWarning)\n"
          ],
          "name": "stderr"
        },
        {
          "output_type": "execute_result",
          "data": {
            "text/plain": [
              "RandomForestClassifier(bootstrap=True, class_weight=None, criterion='gini',\n",
              "            max_depth=30, max_features='auto', max_leaf_nodes=None,\n",
              "            min_impurity_decrease=0.0, min_impurity_split=None,\n",
              "            min_samples_leaf=1, min_samples_split=2,\n",
              "            min_weight_fraction_leaf=0.0, n_estimators=10, n_jobs=None,\n",
              "            oob_score=False, random_state=None, verbose=0,\n",
              "            warm_start=False)"
            ]
          },
          "metadata": {
            "tags": []
          },
          "execution_count": 33
        }
      ]
    },
    {
      "metadata": {
        "id": "Xoa83Hnhg69J",
        "colab_type": "text"
      },
      "cell_type": "markdown",
      "source": [
        "show the training accuracy"
      ]
    },
    {
      "metadata": {
        "id": "QkfV3j9-g69L",
        "colab_type": "code",
        "colab": {
          "base_uri": "https://localhost:8080/",
          "height": 34
        },
        "outputId": "691d8108-c1e7-4487-98bb-f1a0a1fe0772"
      },
      "cell_type": "code",
      "source": [
        "# write your code here\n",
        "RFmodel.score(X_train, Y_train)"
      ],
      "execution_count": 34,
      "outputs": [
        {
          "output_type": "execute_result",
          "data": {
            "text/plain": [
              "0.9972602739726028"
            ]
          },
          "metadata": {
            "tags": []
          },
          "execution_count": 34
        }
      ]
    },
    {
      "metadata": {
        "id": "m4DU0B_Pg69O",
        "colab_type": "text"
      },
      "cell_type": "markdown",
      "source": [
        "show the testing accuracy"
      ]
    },
    {
      "metadata": {
        "id": "q7HuxcAlg69P",
        "colab_type": "code",
        "colab": {
          "base_uri": "https://localhost:8080/",
          "height": 34
        },
        "outputId": "dc6896d1-5c4c-46a9-8851-db586674d527"
      },
      "cell_type": "code",
      "source": [
        "# write your code here\n",
        "RFmodel.score(X_test, Y_test)"
      ],
      "execution_count": 35,
      "outputs": [
        {
          "output_type": "execute_result",
          "data": {
            "text/plain": [
              "0.9307745030843043"
            ]
          },
          "metadata": {
            "tags": []
          },
          "execution_count": 35
        }
      ]
    },
    {
      "metadata": {
        "id": "7gf_hMkng69R",
        "colab_type": "text"
      },
      "cell_type": "markdown",
      "source": [
        "#### XGBClassifier"
      ]
    },
    {
      "metadata": {
        "id": "4NExgbt4g69S",
        "colab_type": "code",
        "colab": {}
      },
      "cell_type": "code",
      "source": [
        "from xgboost import XGBRegressor"
      ],
      "execution_count": 0,
      "outputs": []
    },
    {
      "metadata": {
        "id": "anPO0KEag69V",
        "colab_type": "code",
        "colab": {
          "base_uri": "https://localhost:8080/",
          "height": 317
        },
        "outputId": "26caeb53-63ab-4f6b-a786-3c694049b008"
      },
      "cell_type": "code",
      "source": [
        "# write your code here - find the optimal hyperparameter max_depth\n",
        "# try depth_list=np.array([1, 2, 3, 4, 5, 10, 20, 30, 40, 50, 60, 70, 80, 90, 100])\n",
        "# plot the curve: accuracy as a function of max_depth \n",
        "from xgboost import XGBClassifier\n",
        "accuracy_average_list=[]\n",
        "hyperparameter_list = np.array([1, 2, 3, 4, 5, 10, 20, 30, 40, 50, 60, 70, 80, 90, 100])\n",
        "for hyperparameter in hyperparameter_list:\n",
        "    my_model = XGBClassifier(max_depth = hyperparameter)\n",
        "    accuracy_array = cross_val_score(my_model, X_train, Y_train, cv=10, n_jobs=4)\n",
        "    accuracy_average_list.append(accuracy_array.mean())\n",
        "accuracy_average_list = np.array(accuracy_average_list)\n",
        "# hyperparameter_best = hyperparameter_list[np.argmin(accuracy_average_list)]\n",
        "# or hyperparameter_best is the point at which the curve hyperparameter~accuracy becomes flat \n",
        "hyperparameter_best = hyperparameter_list[np.argmax(accuracy_average_list)]\n",
        "print(hyperparameter_best)\n",
        "plt.plot(hyperparameter_list, accuracy_average_list, '.-b')\n",
        "plt.xlabel('hyperparameter')\n",
        "plt.ylabel('accuracy')"
      ],
      "execution_count": 38,
      "outputs": [
        {
          "output_type": "stream",
          "text": [
            "4\n"
          ],
          "name": "stdout"
        },
        {
          "output_type": "execute_result",
          "data": {
            "text/plain": [
              "Text(0, 0.5, 'accuracy')"
            ]
          },
          "metadata": {
            "tags": []
          },
          "execution_count": 38
        },
        {
          "output_type": "display_data",
          "data": {
            "image/png": "[encoded data removed]",
            "text/plain": [
              "<Figure size 432x288 with 1 Axes>"
            ]
          },
          "metadata": {
            "tags": []
          }
        }
      ]
    },
    {
      "metadata": {
        "id": "urDBMLDAg69Z",
        "colab_type": "text"
      },
      "cell_type": "markdown",
      "source": [
        "build a XGBClassifier using the best hyperparameter and fit it to the training data"
      ]
    },
    {
      "metadata": {
        "id": "gWekEqZ6g69a",
        "colab_type": "code",
        "colab": {
          "base_uri": "https://localhost:8080/",
          "height": 118
        },
        "outputId": "e463c77c-2074-4e97-e853-bfab4aa7e0c5"
      },
      "cell_type": "code",
      "source": [
        "#write your code here\n",
        "xgb_model = XGBClassifier(max_depth = hyperparameter_best) # n_best is from the cell above\n",
        "xgb_model.fit(X_train, Y_train)"
      ],
      "execution_count": 39,
      "outputs": [
        {
          "output_type": "execute_result",
          "data": {
            "text/plain": [
              "XGBClassifier(base_score=0.5, booster='gbtree', colsample_bylevel=1,\n",
              "       colsample_bytree=1, gamma=0, learning_rate=0.1, max_delta_step=0,\n",
              "       max_depth=4, min_child_weight=1, missing=None, n_estimators=100,\n",
              "       n_jobs=1, nthread=None, objective='binary:logistic', random_state=0,\n",
              "       reg_alpha=0, reg_lambda=1, scale_pos_weight=1, seed=None,\n",
              "       silent=True, subsample=1)"
            ]
          },
          "metadata": {
            "tags": []
          },
          "execution_count": 39
        }
      ]
    },
    {
      "metadata": {
        "id": "mophUHJqg69c",
        "colab_type": "text"
      },
      "cell_type": "markdown",
      "source": [
        "show the training accuracy"
      ]
    },
    {
      "metadata": {
        "id": "zOypgyOXg69c",
        "colab_type": "code",
        "colab": {
          "base_uri": "https://localhost:8080/",
          "height": 34
        },
        "outputId": "26592cf6-2325-47bf-eb20-6d1c9743a0e2"
      },
      "cell_type": "code",
      "source": [
        "#write your code here\n",
        "xgb_model.score(X_train, Y_train)"
      ],
      "execution_count": 40,
      "outputs": [
        {
          "output_type": "execute_result",
          "data": {
            "text/plain": [
              "0.9931506849315068"
            ]
          },
          "metadata": {
            "tags": []
          },
          "execution_count": 40
        }
      ]
    },
    {
      "metadata": {
        "id": "lqB9mxFwg69e",
        "colab_type": "text"
      },
      "cell_type": "markdown",
      "source": [
        "show the testing accuracy"
      ]
    },
    {
      "metadata": {
        "id": "f5yOzLHQg69f",
        "colab_type": "code",
        "colab": {
          "base_uri": "https://localhost:8080/",
          "height": 34
        },
        "outputId": "ab2d2452-5504-4093-da63-88a642cab653"
      },
      "cell_type": "code",
      "source": [
        "#write your code here\n",
        "xgb_model.score(X_test, Y_test)"
      ],
      "execution_count": 41,
      "outputs": [
        {
          "output_type": "execute_result",
          "data": {
            "text/plain": [
              "0.9575051405071967"
            ]
          },
          "metadata": {
            "tags": []
          },
          "execution_count": 41
        }
      ]
    },
    {
      "metadata": {
        "id": "AePd-h0Sg69h",
        "colab_type": "text"
      },
      "cell_type": "markdown",
      "source": [
        "Discussion: <br>\n",
        "(1) sometimes, a linear model may be just fine. <br>\n",
        "(2) the nonlinear models have many hyperparameters.<br>\n",
        "The performance could be improved if we search the entire hyperparameter space."
      ]
    }
  ]
}